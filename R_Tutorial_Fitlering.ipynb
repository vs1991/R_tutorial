{
 "cells": [
  {
   "cell_type": "code",
   "execution_count": 3,
   "id": "396dece4",
   "metadata": {},
   "outputs": [
    {
     "name": "stderr",
     "output_type": "stream",
     "text": [
      "Registered S3 method overwritten by 'rvest':\n",
      "  method            from\n",
      "  read_xml.response xml2\n",
      "-- Attaching packages --------------------------------------- tidyverse 1.2.1 --\n",
      "v tibble  2.1.1       v purrr   0.3.2  \n",
      "v tidyr   0.8.3       v dplyr   0.8.0.1\n",
      "v readr   1.3.1       v stringr 1.4.0  \n",
      "v tibble  2.1.1       v forcats 0.4.0  \n",
      "-- Conflicts ------------------------------------------ tidyverse_conflicts() --\n",
      "x dplyr::filter() masks stats::filter()\n",
      "x dplyr::lag()    masks stats::lag()\n"
     ]
    }
   ],
   "source": [
    "library(ggplot2)\n",
    "library(tidyverse)"
   ]
  },
  {
   "cell_type": "code",
   "execution_count": 4,
   "id": "f3065313",
   "metadata": {},
   "outputs": [],
   "source": [
    "hotel_bookings <- read.csv('avocado.csv')"
   ]
  },
  {
   "cell_type": "code",
   "execution_count": 18,
   "id": "45b2677f",
   "metadata": {
    "scrolled": false
   },
   "outputs": [
    {
     "data": {
      "text/html": [
       "<table>\n",
       "<thead><tr><th scope=col>hotel</th><th scope=col>is_canceled</th><th scope=col>lead_time</th><th scope=col>arrival_date_year</th><th scope=col>arrival_date_month</th><th scope=col>arrival_date_week_number</th><th scope=col>arrival_date_day_of_month</th><th scope=col>stays_in_weekend_nights</th><th scope=col>stays_in_week_nights</th><th scope=col>adults</th><th scope=col>...</th><th scope=col>deposit_type</th><th scope=col>agent</th><th scope=col>company</th><th scope=col>days_in_waiting_list</th><th scope=col>customer_type</th><th scope=col>adr</th><th scope=col>required_car_parking_spaces</th><th scope=col>total_of_special_requests</th><th scope=col>reservation_status</th><th scope=col>reservation_status_date</th></tr></thead>\n",
       "<tbody>\n",
       "\t<tr><td>Resort Hotel</td><td>0           </td><td>342         </td><td>2015        </td><td>July        </td><td>27          </td><td>1           </td><td>0           </td><td>0           </td><td>2           </td><td>...         </td><td>No Deposit  </td><td>NULL        </td><td>NULL        </td><td>0           </td><td>Transient   </td><td> 0          </td><td>0           </td><td>0           </td><td>Check-Out   </td><td>2015-07-01  </td></tr>\n",
       "\t<tr><td>Resort Hotel</td><td>0           </td><td>737         </td><td>2015        </td><td>July        </td><td>27          </td><td>1           </td><td>0           </td><td>0           </td><td>2           </td><td>...         </td><td>No Deposit  </td><td>NULL        </td><td>NULL        </td><td>0           </td><td>Transient   </td><td> 0          </td><td>0           </td><td>0           </td><td>Check-Out   </td><td>2015-07-01  </td></tr>\n",
       "\t<tr><td>Resort Hotel</td><td>0           </td><td>  7         </td><td>2015        </td><td>July        </td><td>27          </td><td>1           </td><td>0           </td><td>1           </td><td>1           </td><td>...         </td><td>No Deposit  </td><td>NULL        </td><td>NULL        </td><td>0           </td><td>Transient   </td><td>75          </td><td>0           </td><td>0           </td><td>Check-Out   </td><td>2015-07-02  </td></tr>\n",
       "\t<tr><td>Resort Hotel</td><td>0           </td><td> 13         </td><td>2015        </td><td>July        </td><td>27          </td><td>1           </td><td>0           </td><td>1           </td><td>1           </td><td>...         </td><td>No Deposit  </td><td>304         </td><td>NULL        </td><td>0           </td><td>Transient   </td><td>75          </td><td>0           </td><td>0           </td><td>Check-Out   </td><td>2015-07-02  </td></tr>\n",
       "\t<tr><td>Resort Hotel</td><td>0           </td><td> 14         </td><td>2015        </td><td>July        </td><td>27          </td><td>1           </td><td>0           </td><td>2           </td><td>2           </td><td>...         </td><td>No Deposit  </td><td>240         </td><td>NULL        </td><td>0           </td><td>Transient   </td><td>98          </td><td>0           </td><td>1           </td><td>Check-Out   </td><td>2015-07-03  </td></tr>\n",
       "\t<tr><td>Resort Hotel</td><td>0           </td><td> 14         </td><td>2015        </td><td>July        </td><td>27          </td><td>1           </td><td>0           </td><td>2           </td><td>2           </td><td>...         </td><td>No Deposit  </td><td>240         </td><td>NULL        </td><td>0           </td><td>Transient   </td><td>98          </td><td>0           </td><td>1           </td><td>Check-Out   </td><td>2015-07-03  </td></tr>\n",
       "</tbody>\n",
       "</table>\n"
      ],
      "text/latex": [
       "\\begin{tabular}{r|llllllllllllllllllllllllllllllll}\n",
       " hotel & is\\_canceled & lead\\_time & arrival\\_date\\_year & arrival\\_date\\_month & arrival\\_date\\_week\\_number & arrival\\_date\\_day\\_of\\_month & stays\\_in\\_weekend\\_nights & stays\\_in\\_week\\_nights & adults & ... & deposit\\_type & agent & company & days\\_in\\_waiting\\_list & customer\\_type & adr & required\\_car\\_parking\\_spaces & total\\_of\\_special\\_requests & reservation\\_status & reservation\\_status\\_date\\\\\n",
       "\\hline\n",
       "\t Resort Hotel & 0            & 342          & 2015         & July         & 27           & 1            & 0            & 0            & 2            & ...          & No Deposit   & NULL         & NULL         & 0            & Transient    &  0           & 0            & 0            & Check-Out    & 2015-07-01  \\\\\n",
       "\t Resort Hotel & 0            & 737          & 2015         & July         & 27           & 1            & 0            & 0            & 2            & ...          & No Deposit   & NULL         & NULL         & 0            & Transient    &  0           & 0            & 0            & Check-Out    & 2015-07-01  \\\\\n",
       "\t Resort Hotel & 0            &   7          & 2015         & July         & 27           & 1            & 0            & 1            & 1            & ...          & No Deposit   & NULL         & NULL         & 0            & Transient    & 75           & 0            & 0            & Check-Out    & 2015-07-02  \\\\\n",
       "\t Resort Hotel & 0            &  13          & 2015         & July         & 27           & 1            & 0            & 1            & 1            & ...          & No Deposit   & 304          & NULL         & 0            & Transient    & 75           & 0            & 0            & Check-Out    & 2015-07-02  \\\\\n",
       "\t Resort Hotel & 0            &  14          & 2015         & July         & 27           & 1            & 0            & 2            & 2            & ...          & No Deposit   & 240          & NULL         & 0            & Transient    & 98           & 0            & 1            & Check-Out    & 2015-07-03  \\\\\n",
       "\t Resort Hotel & 0            &  14          & 2015         & July         & 27           & 1            & 0            & 2            & 2            & ...          & No Deposit   & 240          & NULL         & 0            & Transient    & 98           & 0            & 1            & Check-Out    & 2015-07-03  \\\\\n",
       "\\end{tabular}\n"
      ],
      "text/markdown": [
       "\n",
       "| hotel | is_canceled | lead_time | arrival_date_year | arrival_date_month | arrival_date_week_number | arrival_date_day_of_month | stays_in_weekend_nights | stays_in_week_nights | adults | ... | deposit_type | agent | company | days_in_waiting_list | customer_type | adr | required_car_parking_spaces | total_of_special_requests | reservation_status | reservation_status_date |\n",
       "|---|---|---|---|---|---|---|---|---|---|---|---|---|---|---|---|---|---|---|---|---|\n",
       "| Resort Hotel | 0            | 342          | 2015         | July         | 27           | 1            | 0            | 0            | 2            | ...          | No Deposit   | NULL         | NULL         | 0            | Transient    |  0           | 0            | 0            | Check-Out    | 2015-07-01   |\n",
       "| Resort Hotel | 0            | 737          | 2015         | July         | 27           | 1            | 0            | 0            | 2            | ...          | No Deposit   | NULL         | NULL         | 0            | Transient    |  0           | 0            | 0            | Check-Out    | 2015-07-01   |\n",
       "| Resort Hotel | 0            |   7          | 2015         | July         | 27           | 1            | 0            | 1            | 1            | ...          | No Deposit   | NULL         | NULL         | 0            | Transient    | 75           | 0            | 0            | Check-Out    | 2015-07-02   |\n",
       "| Resort Hotel | 0            |  13          | 2015         | July         | 27           | 1            | 0            | 1            | 1            | ...          | No Deposit   | 304          | NULL         | 0            | Transient    | 75           | 0            | 0            | Check-Out    | 2015-07-02   |\n",
       "| Resort Hotel | 0            |  14          | 2015         | July         | 27           | 1            | 0            | 2            | 2            | ...          | No Deposit   | 240          | NULL         | 0            | Transient    | 98           | 0            | 1            | Check-Out    | 2015-07-03   |\n",
       "| Resort Hotel | 0            |  14          | 2015         | July         | 27           | 1            | 0            | 2            | 2            | ...          | No Deposit   | 240          | NULL         | 0            | Transient    | 98           | 0            | 1            | Check-Out    | 2015-07-03   |\n",
       "\n"
      ],
      "text/plain": [
       "  hotel        is_canceled lead_time arrival_date_year arrival_date_month\n",
       "1 Resort Hotel 0           342       2015              July              \n",
       "2 Resort Hotel 0           737       2015              July              \n",
       "3 Resort Hotel 0             7       2015              July              \n",
       "4 Resort Hotel 0            13       2015              July              \n",
       "5 Resort Hotel 0            14       2015              July              \n",
       "6 Resort Hotel 0            14       2015              July              \n",
       "  arrival_date_week_number arrival_date_day_of_month stays_in_weekend_nights\n",
       "1 27                       1                         0                      \n",
       "2 27                       1                         0                      \n",
       "3 27                       1                         0                      \n",
       "4 27                       1                         0                      \n",
       "5 27                       1                         0                      \n",
       "6 27                       1                         0                      \n",
       "  stays_in_week_nights adults ... deposit_type agent company\n",
       "1 0                    2      ... No Deposit   NULL  NULL   \n",
       "2 0                    2      ... No Deposit   NULL  NULL   \n",
       "3 1                    1      ... No Deposit   NULL  NULL   \n",
       "4 1                    1      ... No Deposit   304   NULL   \n",
       "5 2                    2      ... No Deposit   240   NULL   \n",
       "6 2                    2      ... No Deposit   240   NULL   \n",
       "  days_in_waiting_list customer_type adr required_car_parking_spaces\n",
       "1 0                    Transient      0  0                          \n",
       "2 0                    Transient      0  0                          \n",
       "3 0                    Transient     75  0                          \n",
       "4 0                    Transient     75  0                          \n",
       "5 0                    Transient     98  0                          \n",
       "6 0                    Transient     98  0                          \n",
       "  total_of_special_requests reservation_status reservation_status_date\n",
       "1 0                         Check-Out          2015-07-01             \n",
       "2 0                         Check-Out          2015-07-01             \n",
       "3 0                         Check-Out          2015-07-02             \n",
       "4 0                         Check-Out          2015-07-02             \n",
       "5 1                         Check-Out          2015-07-03             \n",
       "6 1                         Check-Out          2015-07-03             "
      ]
     },
     "metadata": {},
     "output_type": "display_data"
    }
   ],
   "source": [
    "head(hotel_bookings)"
   ]
  },
  {
   "cell_type": "markdown",
   "id": "6cc14676",
   "metadata": {},
   "source": [
    "# created a scatterplot to explore the relationship between booking lead time and guests traveling with children"
   ]
  },
  {
   "cell_type": "code",
   "execution_count": 19,
   "id": "5ec53117",
   "metadata": {},
   "outputs": [
    {
     "name": "stderr",
     "output_type": "stream",
     "text": [
      "Warning message:\n",
      "\"Removed 4 rows containing missing values (geom_point).\""
     ]
    },
    {
     "data": {
      "image/png": "[encoded data removed]",
      "text/plain": [
       "plot without title"
      ]
     },
     "metadata": {},
     "output_type": "display_data"
    }
   ],
   "source": [
    "ggplot(data  = hotel_bookings) + geom_point(mapping = aes(x=lead_time,y=children))"
   ]
  },
  {
   "cell_type": "markdown",
   "id": "e5cd64a2",
   "metadata": {},
   "source": [
    "# Now, your stakeholder wants to run a family-friendly promotion targeting key market segments. She wants to know which market segments generate the largest number of bookings, and where these bookings are made (city hotels or resort hotels). \n",
    "\n",
    "# First, you decide to create a bar chart showing each hotel type and market segment. You use different colors to represent each market segment"
   ]
  },
  {
   "cell_type": "code",
   "execution_count": 21,
   "id": "98e65329",
   "metadata": {},
   "outputs": [
    {
     "data": {
      "image/png": "[encoded data removed]",
      "text/plain": [
       "plot without title"
      ]
     },
     "metadata": {},
     "output_type": "display_data"
    }
   ],
   "source": [
    "ggplot(data =hotel_bookings) + geom_bar(mapping = aes(x=hotel,fill=market_segment))"
   ]
  },
  {
   "cell_type": "markdown",
   "id": "b2cb06f7",
   "metadata": {},
   "source": [
    "# you realize that it's difficult to compare the size of the market segments at the top of the bars. You want your stakeholder to be able to clearly compare each segment.   \n",
    "\n",
    "\n",
    "# You decide to use the facet_wrap() function to create a separate plot for each market segment. In the parentheses of the facet_wrap() function, add the variable 'market_segment'"
   ]
  },
  {
   "cell_type": "code",
   "execution_count": 22,
   "id": "27a109f0",
   "metadata": {
    "scrolled": true
   },
   "outputs": [
    {
     "data": {
      "image/png": "[encoded data removed]",
      "text/plain": [
       "plot without title"
      ]
     },
     "metadata": {},
     "output_type": "display_data"
    }
   ],
   "source": [
    "ggplot(data = hotel_bookings)+geom_bar(mapping = aes(x = hotel)) + facet_wrap(~market_segment)"
   ]
  },
  {
   "cell_type": "markdown",
   "id": "5f087c4c",
   "metadata": {},
   "source": [
    "# After considering all the data, your stakeholder decides to send the promotion to families that make online bookings for city hotels. The online segment is the fastest growing segment, and families tend to spend more at city hotels than other types of guests. \n",
    "\n",
    "# Your stakeholder asks if you can create a plot that shows the relationship between lead time and guests traveling with children for online bookings at city hotels. This will give her a better idea of the specific timing for the promotion. "
   ]
  },
  {
   "cell_type": "code",
   "execution_count": 23,
   "id": "8c2f9987",
   "metadata": {},
   "outputs": [],
   "source": [
    "onlineta_city_hotels <- filter(hotel_bookings, \n",
    "                           (hotel==\"City Hotel\" & \n",
    "                             hotel_bookings$market_segment==\"Online TA\"))"
   ]
  },
  {
   "cell_type": "code",
   "execution_count": 26,
   "id": "e78ca4e8",
   "metadata": {},
   "outputs": [
    {
     "ename": "ERROR",
     "evalue": "Error in View(onlineta_city_hotels): 'View()' not yet supported in the Jupyter R kernel\n",
     "output_type": "error",
     "traceback": [
      "Error in View(onlineta_city_hotels): 'View()' not yet supported in the Jupyter R kernel\nTraceback:\n",
      "1. View(onlineta_city_hotels)",
      "2. stop(sQuote(\"View()\"), \" not yet supported in the Jupyter R kernel\")"
     ]
    }
   ],
   "source": [
    "View(onlineta_city_hotels)\n"
   ]
  },
  {
   "cell_type": "code",
   "execution_count": 28,
   "id": "9c8383e7",
   "metadata": {},
   "outputs": [
    {
     "name": "stderr",
     "output_type": "stream",
     "text": [
      "Warning message:\n",
      "\"Removed 1 rows containing missing values (geom_point).\""
     ]
    },
    {
     "data": {
      "image/png": "[encoded data removed]",
      "text/plain": [
       "plot without title"
      ]
     },
     "metadata": {},
     "output_type": "display_data"
    }
   ],
   "source": [
    "ggplot(data = onlineta_city_hotels) +\n",
    "  geom_point(mapping = aes(x = lead_time, y = children))"
   ]
  },
  {
   "cell_type": "code",
   "execution_count": 29,
   "id": "d2589106",
   "metadata": {},
   "outputs": [],
   "source": [
    "onlineta_city_hotels_v2 <- hotel_bookings %>%\n",
    "  filter(hotel==\"City Hotel\") %>%\n",
    "  filter(market_segment==\"Online TA\")"
   ]
  },
  {
   "cell_type": "code",
   "execution_count": 30,
   "id": "12f596dc",
   "metadata": {},
   "outputs": [
    {
     "name": "stderr",
     "output_type": "stream",
     "text": [
      "Warning message:\n",
      "\"Removed 1 rows containing missing values (geom_point).\""
     ]
    },
    {
     "data": {
      "image/png": "[encoded data removed]",
      "text/plain": [
       "plot without title"
      ]
     },
     "metadata": {},
     "output_type": "display_data"
    }
   ],
   "source": [
    "ggplot(data = onlineta_city_hotels_v2) +\n",
    "  geom_point(mapping = aes(x = lead_time, y = children))"
   ]
  },
  {
   "cell_type": "code",
   "execution_count": null,
   "id": "f066effd",
   "metadata": {},
   "outputs": [],
   "source": []
  }
 ],
 "metadata": {
  "kernelspec": {
   "display_name": "R",
   "language": "R",
   "name": "ir"
  },
  "language_info": {
   "codemirror_mode": "r",
   "file_extension": ".r",
   "mimetype": "text/x-r-source",
   "name": "R",
   "pygments_lexer": "r",
   "version": "3.6.1"
  }
 },
 "nbformat": 4,
 "nbformat_minor": 5
}
